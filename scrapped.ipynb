{
 "cells": [
  {
   "cell_type": "code",
   "execution_count": null,
   "id": "59a9d9fb",
   "metadata": {},
   "outputs": [],
   "source": [
    "def get_preprocessing_pipe(scaling = True, preprocessing = \"PCA\", prep_args = None):\n",
    "    \"\"\"\n",
    "    Returns a preprocessing pipeline with optional scaling and PCA/ICA.\n",
    "    \"\"\"\n",
    "    pipe = []\n",
    "    if preprocessing == \"PCA\":\n",
    "        pipe.append( \n",
    "                    ('PCA', PCA(*\n",
    "                        ([n_components=2] if args is None else args)\n",
    "                        ) \n",
    "                     ) \n",
    "                    )\n",
    "    if preprocessing == \"ICA\":\n",
    "        pipe.append( \n",
    "                    ('ICA', FastICA(*\n",
    "                        ([n_components=2] if args is None else args)\n",
    "                        )\n",
    "                     ) \n",
    "                    )\n",
    "    if scaling:\n",
    "        pipe.insert(0, ('Scaler', StandardScaler()))\n",
    "    return pipe"
   ]
  }
 ],
 "metadata": {
  "language_info": {
   "name": "python"
  }
 },
 "nbformat": 4,
 "nbformat_minor": 5
}
